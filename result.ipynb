{
 "cells": [
  {
   "cell_type": "code",
   "execution_count": 2,
   "id": "21d8ecfd-59d9-4534-afed-d0b65051ccbf",
   "metadata": {},
   "outputs": [
    {
     "ename": "IndentationError",
     "evalue": "unindent does not match any outer indentation level (<tokenize>, line 33)",
     "output_type": "error",
     "traceback": [
      "\u001b[0;36m  File \u001b[0;32m<tokenize>:33\u001b[0;36m\u001b[0m\n\u001b[0;31m    <td>{{review['Name']}}</td>\u001b[0m\n\u001b[0m    ^\u001b[0m\n\u001b[0;31mIndentationError\u001b[0m\u001b[0;31m:\u001b[0m unindent does not match any outer indentation level\n"
     ]
    }
   ],
   "source": [
    "!DOCTYPE html>\n",
    "<html lang=\"en\" >\n",
    "\n",
    "<head>\n",
    "  <meta charset=\"UTF-8\">\n",
    "  <title>Review Page</title>\n",
    "\n",
    "    <link rel=\"stylesheet\" href=\"https://cdnjs.cloudflare.com/ajax/libs/normalize/5.0.0/normalize.min.css\">\n",
    "\n",
    "\n",
    "      <link rel=\"stylesheet\" href=\"./style.css\">\n",
    "    <link rel=\"stylesheet\" href=\"{{ url_for('static', filename='css/style.css') }}\">\n",
    "\n",
    "\n",
    "</head>\n",
    "\n",
    "<body>\n",
    "\n",
    "  <div class=\"table-users\">\n",
    "   <div class=\"header\">Reviews</div>\n",
    "\n",
    "   <table cellspacing=\"0\">\n",
    "      <tr>\n",
    "         <th>Product</th>\n",
    "         <th>Name</th>\n",
    "         <th>Rating</th>\n",
    "         <th>Comment Heading</th>\n",
    "         <th width=\"230\">Comments</th>\n",
    "      </tr>\n",
    "         {% for review in reviews %}\n",
    "      <tr>\n",
    "          <td>{{review['Product']}}</td>\n",
    "         <td>{{review['Name']}}</td>\n",
    "         <td>{{review['Rating']}}</td>\n",
    "         <td>{{review['CommentHead']}}</td>\n",
    "         <td>{{review['Comment']}} </td>\n",
    "       {% endfor %}\n",
    "   </table>\n",
    "</div>\n",
    "\n",
    "\n",
    "\n",
    "</body>\n",
    "\n",
    "</html>"
   ]
  },
  {
   "cell_type": "code",
   "execution_count": null,
   "id": "bb9ac920-d58d-4fd5-89c0-8e008b10444f",
   "metadata": {},
   "outputs": [],
   "source": []
  }
 ],
 "metadata": {
  "kernelspec": {
   "display_name": "Python 3 (ipykernel)",
   "language": "python",
   "name": "python3"
  },
  "language_info": {
   "codemirror_mode": {
    "name": "ipython",
    "version": 3
   },
   "file_extension": ".py",
   "mimetype": "text/x-python",
   "name": "python",
   "nbconvert_exporter": "python",
   "pygments_lexer": "ipython3",
   "version": "3.10.6"
  }
 },
 "nbformat": 4,
 "nbformat_minor": 5
}
